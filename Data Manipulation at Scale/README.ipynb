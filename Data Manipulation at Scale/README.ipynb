{
 "cells": [
  {
   "cell_type": "markdown",
   "metadata": {},
   "source": [
    "<h1>Welcome to your Lab Sandbox</h1>\n",
    "\n",
    "<p>We’re glad you’re here! Let’s get you started in your Lab Sandbox with a quick README <br>\n",
    "    to answer any questions you might have. It’s preconfigured by Coursera and includes all <br>\n",
    "    dependencies (libraries and packages) to complete your work in Jupyter Notebooks. <br>\n",
    "    You can practice, run test cases, and work on assignments from your browser. <br>\n",
    "    Learn more about the Coursera Lab Sandbox and how to use the Jupyter Notebook <br>\n",
    "    sandbox environment (including how to upload and download files) in the <a href=\"https://learner.coursera.help/hc/articles/360062301971\">Learner Help Center.</a></p>\n",
    "\n",
    "<h2>How can I get started?</h2>\n",
    "\n",
    "<ol>\n",
    "   <li>Read <a href=\"Getting%20Started%20with%20Your%20Lab.ipynb\">Getting Started with Your Lab</a> for important course-specific guidance</li>\n",
    "    <li>Download any assessment or starter files that were included in the course instructions and materials.<br>\n",
    "        You can download most files by clicking on them. If the file opens in a new browser tab, right click <br> \n",
    "        on a blank area of the browser page and select Save As to save your file locally</li>\n",
    "    <li>Upload your files into the Lab Sandbox and complete the course work.</li>\n",
    "    <li>When you’re done, save your work in your sandbox. </li>\n",
    "</ol>\n",
    "\n",
    "<h2>How can I receive a score for work completed in the Lab Sandbox?</h2>\n",
    "\n",
    "<ol>\n",
    "    <li>To receive a score for your work within Coursera, follow the course instructions listed within each assignment.</li>\n",
    "    <li>If you’re working on a Programming Assignment or Peer Review, you can download your Lab files to your <br>\n",
    "        local computer and upload them directly to the assignment. If you are working on a Quiz, you can <br> \n",
    "        use your Lab environment to complete your work and then select your responses directly within the quiz.</li>\n",
    "    <li>If you have any questions as you get started, we recommend reviewing <a href=\"Getting%20Started%20with%20Your%20Lab.ipynb\">Getting Started with Your Lab</a> <br> \n",
    "        for course-specific guidance on how to work with the Lab Sandbox for this course.</li>\n",
    "</ol>\n",
    "\n",
    "\n",
    "  \n",
    "  \n",
    "       \n",
    "    \n",
    "<h2>How can I get help with my Lab Sandbox?</h2>\n",
    "    <p>You can learn more about how to use the Lab Sandbox environment and find tips to troubleshoot in the <a href=\"https://learner.coursera.help/hc/articles/360062301971\">Learner Help Center.</a></p>\n",
    "    <p>Coursera currently maintains Lab Sandboxes and course instructors don’t have the ability to modify <br>\n",
    "    or troubleshoot sandbox environments. If you do run into any time sensitive platform issues, <br> \n",
    "    instead of contacting the course instructor and/or staff, reach out to our 24/7 chat support <br>\n",
    "    in the <a href=\"https://learner.coursera.help/hc/\">Learner Help Center</a>.\n",
    "</p>\n",
    "<p>Happy learning! </p>\n",
    "\n",
    "  \n"
   ]
  }
 ],
 "metadata": {
  "kernelspec": {
   "display_name": "Python 3",
   "language": "python",
   "name": "python3"
  },
  "language_info": {
   "codemirror_mode": {
    "name": "ipython",
    "version": 3
   },
   "file_extension": ".py",
   "mimetype": "text/x-python",
   "name": "python",
   "nbconvert_exporter": "python",
   "pygments_lexer": "ipython3",
   "version": "3.7.6"
  }
 },
 "nbformat": 4,
 "nbformat_minor": 4
}
